{
 "cells": [
  {
   "cell_type": "code",
   "execution_count": 1,
   "metadata": {},
   "outputs": [
    {
     "data": {
      "text/plain": [
       "True"
      ]
     },
     "execution_count": 1,
     "metadata": {},
     "output_type": "execute_result"
    }
   ],
   "source": [
    "# settings.py\n",
    "from dotenv import load_dotenv\n",
    "load_dotenv()\n",
    "\n",
    "# OR, the same with increased verbosity\n",
    "load_dotenv(verbose=True)\n",
    "\n",
    "# OR, explicitly providing path to '.env'\n",
    "from pathlib import Path  # Python 3.6+ only\n",
    "env_path = Path('.') / '.env'\n",
    "load_dotenv(dotenv_path=env_path)"
   ]
  },
  {
   "cell_type": "code",
   "execution_count": 2,
   "metadata": {},
   "outputs": [],
   "source": [
    "import tweepy\n",
    "import webbrowser\n",
    "import time\n",
    "import pandas as pd"
   ]
  },
  {
   "cell_type": "code",
   "execution_count": 3,
   "metadata": {},
   "outputs": [
    {
     "name": "stdout",
     "output_type": "stream",
     "text": [
      "Connected to MySQL Server version  8.0.20\n",
      "You're connected to database:  ('DORIS_DB',)\n",
      "MySQL connection is closed\n"
     ]
    }
   ],
   "source": [
    "import os\n",
    "import mysql.connector\n",
    "from mysql.connector import Error\n",
    "\n",
    "try:\n",
    "    connection = mysql.connector.connect(host = os.getenv('aws_host'),\n",
    "                                         database = os.getenv('aws_schema'),\n",
    "                                         user = os.getenv('aws_user'),\n",
    "                                         password = os.getenv('aws_pass'))\n",
    "    if connection.is_connected():\n",
    "        db_Info = connection.get_server_info()\n",
    "        print(\"Connected to MySQL Server version \", db_Info)\n",
    "        cursor = connection.cursor()\n",
    "        cursor.execute(\"select database();\")\n",
    "        record = cursor.fetchone()\n",
    "        print(\"You're connected to database: \", record)\n",
    "\n",
    "except Error as e:\n",
    "    print(\"Error while connecting to MySQL\", e)\n",
    "finally:\n",
    "    if (connection.is_connected()):\n",
    "        cursor.close()\n",
    "        connection.close()\n",
    "        print(\"MySQL connection is closed\")\n"
   ]
  },
  {
   "cell_type": "code",
   "execution_count": 4,
   "metadata": {},
   "outputs": [],
   "source": [
    "consumer_key = os.getenv(\"consumer_key\")\n",
    "consumer_secret = os.getenv(\"consumer_secret\")\n",
    "callback_uri = 'oob'\n",
    "auth = tweepy.OAuthHandler(consumer_key, consumer_secret, callback_uri)\n",
    "api = tweepy.API(auth)"
   ]
  },
  {
   "cell_type": "code",
   "execution_count": 5,
   "metadata": {},
   "outputs": [],
   "source": [
    "def extract_timeline_as_df(timeline_list):\n",
    "    tweets_data = []\n",
    "    header_cols = [\"id_str\", \"author\", \"text\", \"in_reply_to_user_id\", \"in_reply_to_status_id\", \"quoted_status_id\", \"retweet_count\", \"favorite_count\", \"created_at\"]\n",
    "\n",
    "    for status in timeline_list:\n",
    "        status_dict = dict(vars(status))\n",
    "        keys = status_dict.keys()\n",
    "        single_tweet_data = {}\n",
    "        for k in keys:\n",
    "            if k == \"author\":\n",
    "                single_tweet_data[k] = status.author.screen_name\n",
    "            else:\n",
    "                single_tweet_data[k] = status_dict[k]\n",
    "            \n",
    "        tweets_data.append(single_tweet_data)\n",
    "    df = pd.DataFrame(tweets_data, columns=header_cols)\n",
    "    return df"
   ]
  },
  {
   "cell_type": "code",
   "execution_count": 6,
   "metadata": {},
   "outputs": [],
   "source": [
    "user = api.get_user(\"realDonaldTrump\")\n",
    "user_timeline = user.timeline()"
   ]
  },
  {
   "cell_type": "code",
   "execution_count": 30,
   "metadata": {},
   "outputs": [],
   "source": [
    "def get_all_tweets(screen_name):\n",
    "    #Twitter only allows access to a users most recent 3240 tweets with this method\n",
    "    \n",
    "    #initialize a list to hold all the tweepy Tweets\n",
    "    alltweets = []  \n",
    "    sortedtweets = []\n",
    "    \n",
    "    #make initial request for most recent tweets (200 is the maximum allowed count)\n",
    "    new_tweets = api.user_timeline(screen_name = screen_name,count=200)\n",
    "    \n",
    "    #save most recent tweets\n",
    "    alltweets.extend(new_tweets)\n",
    "    \n",
    "    #save the id of the oldest tweet less one\n",
    "    oldest = alltweets[-1].id - 1\n",
    "    \n",
    "    #keep grabbing tweets until there are no tweets left to grab\n",
    "    while len(new_tweets) > 0:\n",
    "        print(f\"getting tweets before {oldest}\")\n",
    "        \n",
    "        #all subsiquent requests use the max_id param to prevent duplicates\n",
    "        new_tweets = api.user_timeline(screen_name = screen_name,count=200,max_id=oldest)\n",
    "        \n",
    "        #save most recent tweets\n",
    "        alltweets.extend(new_tweets)\n",
    "        \n",
    "        #update the id of the oldest tweet less one\n",
    "        oldest = alltweets[-1].id - 1\n",
    "        \n",
    "        print(f\"...{len(alltweets)} tweets downloaded so far\")\n",
    "        \n",
    "    for tweet in alltweets:\n",
    "        if not hasattr(tweet, 'quoted_status_id'):\n",
    "            tweet.quoted_status_id = None\n",
    "        sortedtweets.append([tweet.id, tweet.user.id, tweet.text, tweet.in_reply_to_status_id, tweet.in_reply_to_user_id, tweet.quoted_status_id, tweet.retweet_count, tweet.favorite_count, tweet.created_at])\n",
    "    return sortedtweets\n",
    "    \n",
    "#     #transform the tweepy tweets into a 2D array that will populate the csv \n",
    "#     outtweets = [[tweet.id_str, tweet.created_at, tweet.text] for tweet in alltweets]\n",
    "    \n",
    "#     #write the csv  \n",
    "#     with open(f'new_{screen_name}_tweets.csv', 'w') as f:\n",
    "#         writer = csv.writer(f)\n",
    "#         writer.writerow([\"id\",\"created_at\",\"text\"])\n",
    "#         writer.writerows(outtweets)\n",
    "    \n",
    "#     pass\n"
   ]
  },
  {
   "cell_type": "code",
   "execution_count": 54,
   "metadata": {},
   "outputs": [
    {
     "name": "stdout",
     "output_type": "stream",
     "text": [
      "getting tweets before 1302296545442832383\n",
      "...400 tweets downloaded so far\n",
      "getting tweets before 1295930870403076096\n",
      "...600 tweets downloaded so far\n",
      "getting tweets before 1287927758232997888\n",
      "...800 tweets downloaded so far\n",
      "getting tweets before 1278854471133601791\n",
      "...1000 tweets downloaded so far\n",
      "getting tweets before 1269799809084542978\n",
      "...1200 tweets downloaded so far\n",
      "getting tweets before 1260609505743835137\n",
      "...1400 tweets downloaded so far\n",
      "getting tweets before 1250908833221926913\n",
      "...1599 tweets downloaded so far\n",
      "getting tweets before 1239675315825377282\n",
      "...1799 tweets downloaded so far\n",
      "getting tweets before 1219812527816744961\n",
      "...1999 tweets downloaded so far\n",
      "getting tweets before 1197367513136254975\n",
      "...2199 tweets downloaded so far\n",
      "getting tweets before 1190447045703692287\n",
      "...2398 tweets downloaded so far\n",
      "getting tweets before 1183737639222026245\n",
      "...2598 tweets downloaded so far\n",
      "getting tweets before 1176572512945266688\n",
      "...2798 tweets downloaded so far\n",
      "getting tweets before 1169257313062051840\n",
      "...2998 tweets downloaded so far\n",
      "getting tweets before 1160949570848940031\n",
      "...3198 tweets downloaded so far\n",
      "getting tweets before 1153837955674361855\n",
      "...3199 tweets downloaded so far\n",
      "getting tweets before 1153808009664970752\n",
      "...3199 tweets downloaded so far\n"
     ]
    }
   ],
   "source": [
    "df5 = pd.DataFrame(get_all_tweets(\"kamalaharris\"), columns=['tweetID', 'userID', 'tweetText', 'inReplyStatus', 'inReplyUser', 'quotedStatusID', 'retweetCount', 'favoriteCount', 'createdAt'])"
   ]
  },
  {
   "cell_type": "code",
   "execution_count": 55,
   "metadata": {},
   "outputs": [
    {
     "data": {
      "text/html": [
       "<div>\n",
       "<style scoped>\n",
       "    .dataframe tbody tr th:only-of-type {\n",
       "        vertical-align: middle;\n",
       "    }\n",
       "\n",
       "    .dataframe tbody tr th {\n",
       "        vertical-align: top;\n",
       "    }\n",
       "\n",
       "    .dataframe thead th {\n",
       "        text-align: right;\n",
       "    }\n",
       "</style>\n",
       "<table border=\"1\" class=\"dataframe\">\n",
       "  <thead>\n",
       "    <tr style=\"text-align: right;\">\n",
       "      <th></th>\n",
       "      <th>tweetID</th>\n",
       "      <th>userID</th>\n",
       "      <th>tweetText</th>\n",
       "      <th>inReplyStatus</th>\n",
       "      <th>inReplyUser</th>\n",
       "      <th>quotedStatusID</th>\n",
       "      <th>retweetCount</th>\n",
       "      <th>favoriteCount</th>\n",
       "      <th>createdAt</th>\n",
       "    </tr>\n",
       "  </thead>\n",
       "  <tbody>\n",
       "    <tr>\n",
       "      <th>0</th>\n",
       "      <td>1311051909055369219</td>\n",
       "      <td>30354991</td>\n",
       "      <td>Because of Justice Ginsburg, people could get ...</td>\n",
       "      <td>NaN</td>\n",
       "      <td>NaN</td>\n",
       "      <td>NaN</td>\n",
       "      <td>1563</td>\n",
       "      <td>7701</td>\n",
       "      <td>2020-09-29 21:15:07</td>\n",
       "    </tr>\n",
       "    <tr>\n",
       "      <th>1</th>\n",
       "      <td>1311035104597245953</td>\n",
       "      <td>30354991</td>\n",
       "      <td>RT @JoeBiden: It’s grassroots donors like you ...</td>\n",
       "      <td>NaN</td>\n",
       "      <td>NaN</td>\n",
       "      <td>NaN</td>\n",
       "      <td>1121</td>\n",
       "      <td>0</td>\n",
       "      <td>2020-09-29 20:08:21</td>\n",
       "    </tr>\n",
       "    <tr>\n",
       "      <th>2</th>\n",
       "      <td>1311029142851383296</td>\n",
       "      <td>30354991</td>\n",
       "      <td>More than one million Americans have already v...</td>\n",
       "      <td>NaN</td>\n",
       "      <td>NaN</td>\n",
       "      <td>NaN</td>\n",
       "      <td>1641</td>\n",
       "      <td>6810</td>\n",
       "      <td>2020-09-29 19:44:40</td>\n",
       "    </tr>\n",
       "    <tr>\n",
       "      <th>3</th>\n",
       "      <td>1310998786915868672</td>\n",
       "      <td>30354991</td>\n",
       "      <td>Vote as if your life, your choice, depends on ...</td>\n",
       "      <td>NaN</td>\n",
       "      <td>NaN</td>\n",
       "      <td>NaN</td>\n",
       "      <td>8267</td>\n",
       "      <td>38199</td>\n",
       "      <td>2020-09-29 17:44:02</td>\n",
       "    </tr>\n",
       "    <tr>\n",
       "      <th>4</th>\n",
       "      <td>1310993136383143936</td>\n",
       "      <td>30354991</td>\n",
       "      <td>RT @truth: Truth — and we can’t stress this en...</td>\n",
       "      <td>NaN</td>\n",
       "      <td>NaN</td>\n",
       "      <td>NaN</td>\n",
       "      <td>8430</td>\n",
       "      <td>0</td>\n",
       "      <td>2020-09-29 17:21:35</td>\n",
       "    </tr>\n",
       "  </tbody>\n",
       "</table>\n",
       "</div>"
      ],
      "text/plain": [
       "               tweetID    userID  \\\n",
       "0  1311051909055369219  30354991   \n",
       "1  1311035104597245953  30354991   \n",
       "2  1311029142851383296  30354991   \n",
       "3  1310998786915868672  30354991   \n",
       "4  1310993136383143936  30354991   \n",
       "\n",
       "                                           tweetText  inReplyStatus  \\\n",
       "0  Because of Justice Ginsburg, people could get ...            NaN   \n",
       "1  RT @JoeBiden: It’s grassroots donors like you ...            NaN   \n",
       "2  More than one million Americans have already v...            NaN   \n",
       "3  Vote as if your life, your choice, depends on ...            NaN   \n",
       "4  RT @truth: Truth — and we can’t stress this en...            NaN   \n",
       "\n",
       "   inReplyUser  quotedStatusID  retweetCount  favoriteCount  \\\n",
       "0          NaN             NaN          1563           7701   \n",
       "1          NaN             NaN          1121              0   \n",
       "2          NaN             NaN          1641           6810   \n",
       "3          NaN             NaN          8267          38199   \n",
       "4          NaN             NaN          8430              0   \n",
       "\n",
       "            createdAt  \n",
       "0 2020-09-29 21:15:07  \n",
       "1 2020-09-29 20:08:21  \n",
       "2 2020-09-29 19:44:40  \n",
       "3 2020-09-29 17:44:02  \n",
       "4 2020-09-29 17:21:35  "
      ]
     },
     "execution_count": 55,
     "metadata": {},
     "output_type": "execute_result"
    }
   ],
   "source": [
    "df5.head()"
   ]
  },
  {
   "cell_type": "code",
   "execution_count": 56,
   "metadata": {},
   "outputs": [],
   "source": [
    "def insert_into_table(mySql_insert_query):    \n",
    "    try:\n",
    "        connection = mysql.connector.connect(host = os.getenv('aws_host'),\n",
    "                                             database = os.getenv('aws_schema'),\n",
    "                                             user = os.getenv('aws_user'),\n",
    "                                             password = os.getenv('aws_pass'))\n",
    "        if connection.is_connected():\n",
    "            db_Info = connection.get_server_info()\n",
    "            print(\"Connected to MySQL Server version \", db_Info)\n",
    "\n",
    "            cursor = connection.cursor()\n",
    "            for i,row in df5.iterrows():\n",
    "                cursor.execute(mySql_insert_query, tuple(row))\n",
    "                connection.commit()\n",
    "            print(cursor.rowcount, \"Success\")\n",
    "\n",
    "    except Error as e:\n",
    "        print(\"Error while connecting to MySQL\", e)\n",
    "    finally:\n",
    "        if (connection.is_connected()):\n",
    "            cursor.close()\n",
    "            connection.close()\n",
    "            print(\"MySQL connection is closed\")"
   ]
  },
  {
   "cell_type": "code",
   "execution_count": 57,
   "metadata": {},
   "outputs": [
    {
     "name": "stdout",
     "output_type": "stream",
     "text": [
      "Connected to MySQL Server version  8.0.20\n",
      "1 Success\n",
      "MySQL connection is closed\n"
     ]
    }
   ],
   "source": [
    "mySql_insert_query = \"\"\"INSERT IGNORE INTO TWEET (tweetID, userID, tweetText, inReplyStatus, inReplyUser, quotedStatusID, retweetCount, favoriteCount, createdAt)\n",
    "                                    VALUES (%s , %s, %s, %s, %s, %s, %s, %s, %s) \"\"\"\n",
    "\n",
    "df5 = df5.where(pd.notnull(df5), None)\n",
    "insert_into_table(mySql_insert_query)"
   ]
  },
  {
   "cell_type": "code",
   "execution_count": null,
   "metadata": {},
   "outputs": [],
   "source": []
  }
 ],
 "metadata": {
  "kernelspec": {
   "display_name": "Python 3",
   "language": "python",
   "name": "python3"
  },
  "language_info": {
   "codemirror_mode": {
    "name": "ipython",
    "version": 3
   },
   "file_extension": ".py",
   "mimetype": "text/x-python",
   "name": "python",
   "nbconvert_exporter": "python",
   "pygments_lexer": "ipython3",
   "version": "3.8.5"
  }
 },
 "nbformat": 4,
 "nbformat_minor": 4
}

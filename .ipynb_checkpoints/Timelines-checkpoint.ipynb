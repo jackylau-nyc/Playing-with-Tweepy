{
 "cells": [
  {
   "cell_type": "code",
   "execution_count": null,
   "metadata": {},
   "outputs": [],
   "source": [
    "# settings.py\n",
    "from dotenv import load_dotenv\n",
    "load_dotenv()\n",
    "\n",
    "# OR, the same with increased verbosity\n",
    "load_dotenv(verbose=True)\n",
    "\n",
    "# OR, explicitly providing path to '.env'\n",
    "from pathlib import Path  # Python 3.6+ only\n",
    "env_path = Path('.') / '.env'\n",
    "load_dotenv(dotenv_path=env_path)"
   ]
  },
  {
   "cell_type": "code",
   "execution_count": 7,
   "metadata": {},
   "outputs": [],
   "source": [
    "import tweepy\n",
    "import webbrowser\n",
    "import time\n",
    "import pandas as pd"
   ]
  },
  {
   "cell_type": "code",
   "execution_count": null,
   "metadata": {},
   "outputs": [],
   "source": [
    "import os\n",
    "consumer_key = os.getenv(\"consumer_key\")\n",
    "consumer_secret = os.getenv(\"consumer_secret\")"
   ]
  },
  {
   "cell_type": "code",
   "execution_count": 2,
   "metadata": {},
   "outputs": [
    {
     "name": "stdout",
     "output_type": "stream",
     "text": [
      "https://api.twitter.com/oauth/authorize?oauth_token=hemLbAAAAAABH-8PAAABdMEwO6c\n",
      "What's the pin? 1376336\n"
     ]
    },
    {
     "data": {
      "text/plain": [
       "('2191020356-Ci3pjwI7LEsS0uCV2r0KpmGfb25hijbGZKASzBS',\n",
       " 'A5XZg7XFVD2p11PIPE5elbPKaAcpymVtflAzrPpVNHjA7')"
      ]
     },
     "execution_count": 2,
     "metadata": {},
     "output_type": "execute_result"
    }
   ],
   "source": [
    "callback_uri = 'oob'\n",
    "auth = tweepy.OAuthHandler(consumer_key, consumer_secret, callback_uri)\n",
    "redirect_url = auth.get_authorization_url()\n",
    "print(redirect_url)\n",
    "user_pin = input(\"What's the pin? \")\n",
    "auth.get_access_token(user_pin)"
   ]
  },
  {
   "cell_type": "code",
   "execution_count": 5,
   "metadata": {},
   "outputs": [],
   "source": [
    "api = tweepy.API(auth)"
   ]
  },
  {
   "cell_type": "code",
   "execution_count": 6,
   "metadata": {},
   "outputs": [
    {
     "data": {
      "text/plain": [
       "'sn4ckychan'"
      ]
     },
     "execution_count": 6,
     "metadata": {},
     "output_type": "execute_result"
    }
   ],
   "source": [
    "me = api.me()\n",
    "me.screen_name"
   ]
  },
  {
   "cell_type": "code",
   "execution_count": 9,
   "metadata": {},
   "outputs": [],
   "source": [
    "my_timeline = api.home_timeline()"
   ]
  },
  {
   "cell_type": "code",
   "execution_count": 20,
   "metadata": {},
   "outputs": [],
   "source": [
    "columns = set()\n",
    "allowed_types = [str, int]\n",
    "tweets_data = []\n",
    "for status in my_timeline:\n",
    "#     print(type(vars(status)))\n",
    "    status_dict = dict(vars(status))\n",
    "    keys = status_dict.keys()\n",
    "    single_tweet_data = {\"user\": status.user.screen_name, \"author\": status.author.screen_name}\n",
    "    for k in keys:\n",
    "        v_type = type(status_dict[k])\n",
    "        if v_type in allowed_types:\n",
    "            single_tweet_data[k] = status_dict[k]\n",
    "            columns.add(k)\n",
    "    tweets_data.append(single_tweet_data)\n",
    "\n",
    "header_cols = list(columns)\n",
    "header_cols.append(\"user\")\n",
    "header_cols.append(\"author\")"
   ]
  },
  {
   "cell_type": "code",
   "execution_count": 21,
   "metadata": {},
   "outputs": [
    {
     "data": {
      "text/plain": [
       "[{'user': 'sn4ckychan',\n",
       "  'author': 'sn4ckychan',\n",
       "  'id': 1309182103347748866,\n",
       "  'id_str': '1309182103347748866',\n",
       "  'text': 'This is as far as you go https://t.co/aPr4ONAUf3',\n",
       "  'source': '',\n",
       "  'retweet_count': 0,\n",
       "  'favorite_count': 0,\n",
       "  'lang': 'en'}]"
      ]
     },
     "execution_count": 21,
     "metadata": {},
     "output_type": "execute_result"
    }
   ],
   "source": [
    "tweets_data"
   ]
  },
  {
   "cell_type": "code",
   "execution_count": 33,
   "metadata": {},
   "outputs": [
    {
     "data": {
      "text/html": [
       "<div>\n",
       "<style scoped>\n",
       "    .dataframe tbody tr th:only-of-type {\n",
       "        vertical-align: middle;\n",
       "    }\n",
       "\n",
       "    .dataframe tbody tr th {\n",
       "        vertical-align: top;\n",
       "    }\n",
       "\n",
       "    .dataframe thead th {\n",
       "        text-align: right;\n",
       "    }\n",
       "</style>\n",
       "<table border=\"1\" class=\"dataframe\">\n",
       "  <thead>\n",
       "    <tr style=\"text-align: right;\">\n",
       "      <th></th>\n",
       "      <th>retweet_count</th>\n",
       "      <th>lang</th>\n",
       "      <th>id</th>\n",
       "      <th>text</th>\n",
       "      <th>favorite_count</th>\n",
       "      <th>id_str</th>\n",
       "      <th>source</th>\n",
       "      <th>user</th>\n",
       "      <th>author</th>\n",
       "    </tr>\n",
       "  </thead>\n",
       "  <tbody>\n",
       "    <tr>\n",
       "      <th>0</th>\n",
       "      <td>0</td>\n",
       "      <td>en</td>\n",
       "      <td>1309182103347748866</td>\n",
       "      <td>This is as far as you go https://t.co/aPr4ONAUf3</td>\n",
       "      <td>0</td>\n",
       "      <td>1309182103347748866</td>\n",
       "      <td></td>\n",
       "      <td>sn4ckychan</td>\n",
       "      <td>sn4ckychan</td>\n",
       "    </tr>\n",
       "  </tbody>\n",
       "</table>\n",
       "</div>"
      ],
      "text/plain": [
       "   retweet_count lang                   id  \\\n",
       "0              0   en  1309182103347748866   \n",
       "\n",
       "                                               text  favorite_count  \\\n",
       "0  This is as far as you go https://t.co/aPr4ONAUf3               0   \n",
       "\n",
       "                id_str source        user      author  \n",
       "0  1309182103347748866         sn4ckychan  sn4ckychan  "
      ]
     },
     "execution_count": 33,
     "metadata": {},
     "output_type": "execute_result"
    }
   ],
   "source": [
    "df = pd.DataFrame(tweets_data, columns = header_cols)\n",
    "df.head()"
   ]
  },
  {
   "cell_type": "code",
   "execution_count": 55,
   "metadata": {},
   "outputs": [],
   "source": [
    "def extract_timeline_as_df(timeline_list):\n",
    "    columns = set()\n",
    "    allowed_types = [str, int]\n",
    "    tweets_data = []\n",
    "    for status in timeline_list:\n",
    "        status_dict = dict(vars(status))\n",
    "        keys = status_dict.keys()\n",
    "        single_tweet_data = {\"user\": status.user.screen_name, \"author\": status.author.screen_name}\n",
    "        for k in keys:\n",
    "            try:\n",
    "                v_type = type(status_dict[k])\n",
    "            except:\n",
    "                v_type = None\n",
    "            if v_type != None:\n",
    "                if v_type in allowed_types:\n",
    "                    single_tweet_data[k] = status_dict[k]\n",
    "                    columns.add(k)\n",
    "        tweets_data.append(single_tweet_data)\n",
    "\n",
    "\n",
    "    header_cols = list(columns)\n",
    "    header_cols.append(\"user\")\n",
    "    header_cols.append('author')\n",
    "    df = pd.DataFrame(tweets_data, columns=header_cols)\n",
    "    return df"
   ]
  },
  {
   "cell_type": "code",
   "execution_count": 56,
   "metadata": {},
   "outputs": [],
   "source": [
    "my_timeline = api.home_timeline()"
   ]
  },
  {
   "cell_type": "code",
   "execution_count": 57,
   "metadata": {},
   "outputs": [],
   "source": [
    "df2 = extract_timeline_as_df(my_timeline)"
   ]
  },
  {
   "cell_type": "code",
   "execution_count": 58,
   "metadata": {},
   "outputs": [
    {
     "data": {
      "text/html": [
       "<div>\n",
       "<style scoped>\n",
       "    .dataframe tbody tr th:only-of-type {\n",
       "        vertical-align: middle;\n",
       "    }\n",
       "\n",
       "    .dataframe tbody tr th {\n",
       "        vertical-align: top;\n",
       "    }\n",
       "\n",
       "    .dataframe thead th {\n",
       "        text-align: right;\n",
       "    }\n",
       "</style>\n",
       "<table border=\"1\" class=\"dataframe\">\n",
       "  <thead>\n",
       "    <tr style=\"text-align: right;\">\n",
       "      <th></th>\n",
       "      <th>retweet_count</th>\n",
       "      <th>lang</th>\n",
       "      <th>id</th>\n",
       "      <th>text</th>\n",
       "      <th>favorite_count</th>\n",
       "      <th>id_str</th>\n",
       "      <th>source</th>\n",
       "      <th>user</th>\n",
       "      <th>author</th>\n",
       "    </tr>\n",
       "  </thead>\n",
       "  <tbody>\n",
       "    <tr>\n",
       "      <th>0</th>\n",
       "      <td>0</td>\n",
       "      <td>en</td>\n",
       "      <td>1309182103347748866</td>\n",
       "      <td>This is as far as you go https://t.co/aPr4ONAUf3</td>\n",
       "      <td>0</td>\n",
       "      <td>1309182103347748866</td>\n",
       "      <td></td>\n",
       "      <td>sn4ckychan</td>\n",
       "      <td>sn4ckychan</td>\n",
       "    </tr>\n",
       "  </tbody>\n",
       "</table>\n",
       "</div>"
      ],
      "text/plain": [
       "   retweet_count lang                   id  \\\n",
       "0              0   en  1309182103347748866   \n",
       "\n",
       "                                               text  favorite_count  \\\n",
       "0  This is as far as you go https://t.co/aPr4ONAUf3               0   \n",
       "\n",
       "                id_str source        user      author  \n",
       "0  1309182103347748866         sn4ckychan  sn4ckychan  "
      ]
     },
     "execution_count": 58,
     "metadata": {},
     "output_type": "execute_result"
    }
   ],
   "source": [
    "df2.head()"
   ]
  },
  {
   "cell_type": "code",
   "execution_count": 60,
   "metadata": {},
   "outputs": [
    {
     "data": {
      "text/html": [
       "<div>\n",
       "<style scoped>\n",
       "    .dataframe tbody tr th:only-of-type {\n",
       "        vertical-align: middle;\n",
       "    }\n",
       "\n",
       "    .dataframe tbody tr th {\n",
       "        vertical-align: top;\n",
       "    }\n",
       "\n",
       "    .dataframe thead th {\n",
       "        text-align: right;\n",
       "    }\n",
       "</style>\n",
       "<table border=\"1\" class=\"dataframe\">\n",
       "  <thead>\n",
       "    <tr style=\"text-align: right;\">\n",
       "      <th></th>\n",
       "      <th>retweet_count</th>\n",
       "      <th>lang</th>\n",
       "      <th>source_url</th>\n",
       "      <th>text</th>\n",
       "      <th>id</th>\n",
       "      <th>favorite_count</th>\n",
       "      <th>id_str</th>\n",
       "      <th>source</th>\n",
       "      <th>user</th>\n",
       "      <th>author</th>\n",
       "    </tr>\n",
       "  </thead>\n",
       "  <tbody>\n",
       "    <tr>\n",
       "      <th>0</th>\n",
       "      <td>3031</td>\n",
       "      <td>en</td>\n",
       "      <td>http://twitter.com/download/iphone</td>\n",
       "      <td>On my way to North Carolina! https://t.co/IHrU...</td>\n",
       "      <td>1309228568874872832</td>\n",
       "      <td>12817</td>\n",
       "      <td>1309228568874872832</td>\n",
       "      <td>Twitter for iPhone</td>\n",
       "      <td>realDonaldTrump</td>\n",
       "      <td>realDonaldTrump</td>\n",
       "    </tr>\n",
       "    <tr>\n",
       "      <th>1</th>\n",
       "      <td>10696</td>\n",
       "      <td>en</td>\n",
       "      <td>http://twitter.com/download/iphone</td>\n",
       "      <td>Thank you Jacksonville, Florida. See you all T...</td>\n",
       "      <td>1309201382394781696</td>\n",
       "      <td>43975</td>\n",
       "      <td>1309201382394781696</td>\n",
       "      <td>Twitter for iPhone</td>\n",
       "      <td>realDonaldTrump</td>\n",
       "      <td>realDonaldTrump</td>\n",
       "    </tr>\n",
       "    <tr>\n",
       "      <th>2</th>\n",
       "      <td>5114</td>\n",
       "      <td>und</td>\n",
       "      <td>http://twitter.com/download/iphone</td>\n",
       "      <td>https://t.co/WwzdPhDkAZ</td>\n",
       "      <td>1309196764239495168</td>\n",
       "      <td>17566</td>\n",
       "      <td>1309196764239495168</td>\n",
       "      <td>Twitter for iPhone</td>\n",
       "      <td>realDonaldTrump</td>\n",
       "      <td>realDonaldTrump</td>\n",
       "    </tr>\n",
       "    <tr>\n",
       "      <th>3</th>\n",
       "      <td>27147</td>\n",
       "      <td>en</td>\n",
       "      <td>https://studio.twitter.com</td>\n",
       "      <td>Thank you, I will never let you down! https://...</td>\n",
       "      <td>1309178282789793793</td>\n",
       "      <td>89842</td>\n",
       "      <td>1309178282789793793</td>\n",
       "      <td>Twitter Media Studio</td>\n",
       "      <td>realDonaldTrump</td>\n",
       "      <td>realDonaldTrump</td>\n",
       "    </tr>\n",
       "    <tr>\n",
       "      <th>4</th>\n",
       "      <td>6859</td>\n",
       "      <td>en</td>\n",
       "      <td>http://twitter.com/download/iphone</td>\n",
       "      <td>Vote-by-mail ballots in my home state of FLORI...</td>\n",
       "      <td>1309171857774477314</td>\n",
       "      <td>22799</td>\n",
       "      <td>1309171857774477314</td>\n",
       "      <td>Twitter for iPhone</td>\n",
       "      <td>realDonaldTrump</td>\n",
       "      <td>realDonaldTrump</td>\n",
       "    </tr>\n",
       "  </tbody>\n",
       "</table>\n",
       "</div>"
      ],
      "text/plain": [
       "   retweet_count lang                          source_url  \\\n",
       "0           3031   en  http://twitter.com/download/iphone   \n",
       "1          10696   en  http://twitter.com/download/iphone   \n",
       "2           5114  und  http://twitter.com/download/iphone   \n",
       "3          27147   en          https://studio.twitter.com   \n",
       "4           6859   en  http://twitter.com/download/iphone   \n",
       "\n",
       "                                                text                   id  \\\n",
       "0  On my way to North Carolina! https://t.co/IHrU...  1309228568874872832   \n",
       "1  Thank you Jacksonville, Florida. See you all T...  1309201382394781696   \n",
       "2                            https://t.co/WwzdPhDkAZ  1309196764239495168   \n",
       "3  Thank you, I will never let you down! https://...  1309178282789793793   \n",
       "4  Vote-by-mail ballots in my home state of FLORI...  1309171857774477314   \n",
       "\n",
       "   favorite_count               id_str                source             user  \\\n",
       "0           12817  1309228568874872832    Twitter for iPhone  realDonaldTrump   \n",
       "1           43975  1309201382394781696    Twitter for iPhone  realDonaldTrump   \n",
       "2           17566  1309196764239495168    Twitter for iPhone  realDonaldTrump   \n",
       "3           89842  1309178282789793793  Twitter Media Studio  realDonaldTrump   \n",
       "4           22799  1309171857774477314    Twitter for iPhone  realDonaldTrump   \n",
       "\n",
       "            author  \n",
       "0  realDonaldTrump  \n",
       "1  realDonaldTrump  \n",
       "2  realDonaldTrump  \n",
       "3  realDonaldTrump  \n",
       "4  realDonaldTrump  "
      ]
     },
     "execution_count": 60,
     "metadata": {},
     "output_type": "execute_result"
    }
   ],
   "source": [
    "user = api.get_user(\"realDonaldTrump\")\n",
    "user_timeline = user.timeline()\n",
    "df3 = extract_timeline_as_df(user_timeline)\n",
    "df3.head()"
   ]
  },
  {
   "cell_type": "code",
   "execution_count": 61,
   "metadata": {},
   "outputs": [
    {
     "ename": "NameError",
     "evalue": "name 'new_status' is not defined",
     "output_type": "error",
     "traceback": [
      "\u001b[0;31m---------------------------------------------------------------------------\u001b[0m",
      "\u001b[0;31mNameError\u001b[0m                                 Traceback (most recent call last)",
      "\u001b[0;32m<ipython-input-61-ad24e8cc0fd3>\u001b[0m in \u001b[0;36m<module>\u001b[0;34m\u001b[0m\n\u001b[0;32m----> 1\u001b[0;31m \u001b[0mdir\u001b[0m\u001b[0;34m(\u001b[0m\u001b[0mnew_status\u001b[0m\u001b[0;34m)\u001b[0m\u001b[0;34m\u001b[0m\u001b[0;34m\u001b[0m\u001b[0m\n\u001b[0m",
      "\u001b[0;31mNameError\u001b[0m: name 'new_status' is not defined"
     ]
    }
   ],
   "source": []
  },
  {
   "cell_type": "code",
   "execution_count": null,
   "metadata": {},
   "outputs": [],
   "source": []
  }
 ],
 "metadata": {
  "kernelspec": {
   "display_name": "Python 3",
   "language": "python",
   "name": "python3"
  },
  "language_info": {
   "codemirror_mode": {
    "name": "ipython",
    "version": 3
   },
   "file_extension": ".py",
   "mimetype": "text/x-python",
   "name": "python",
   "nbconvert_exporter": "python",
   "pygments_lexer": "ipython3",
   "version": "3.8.5"
  }
 },
 "nbformat": 4,
 "nbformat_minor": 4
}

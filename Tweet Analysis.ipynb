{
 "cells": [
  {
   "cell_type": "code",
   "execution_count": 1,
   "metadata": {},
   "outputs": [
    {
     "data": {
      "text/plain": [
       "True"
      ]
     },
     "execution_count": 1,
     "metadata": {},
     "output_type": "execute_result"
    }
   ],
   "source": [
    "# settings.py\n",
    "from dotenv import load_dotenv\n",
    "load_dotenv()\n",
    "\n",
    "# OR, the same with increased verbosity\n",
    "load_dotenv(verbose=True)\n",
    "\n",
    "# OR, explicitly providing path to '.env'\n",
    "from pathlib import Path  # Python 3.6+ only\n",
    "env_path = Path('.') / '.env'\n",
    "load_dotenv(dotenv_path=env_path)"
   ]
  },
  {
   "cell_type": "code",
   "execution_count": 3,
   "metadata": {},
   "outputs": [],
   "source": [
    "import tweepy\n",
    "import webbrowser\n",
    "import time\n",
    "import nltk\n",
    "nltk.data.path.append('/Users/jackylau/nltk_data')\n",
    "import ssl\n",
    "# try:\n",
    "#     _create_unverified_https_context = ssl._create_unverified_context\n",
    "# except AttributeError:\n",
    "#     pass\n",
    "# else:\n",
    "#     ssl._create_default_https_context = _create_unverified_https_context\n",
    "\n",
    "# nltk.download()\n",
    "import pandas as pd"
   ]
  },
  {
   "cell_type": "code",
   "execution_count": 4,
   "metadata": {},
   "outputs": [],
   "source": [
    "import os\n",
    "import mysql.connector\n",
    "from mysql.connector import Error\n",
    "\n",
    "def get_values(mySql_query):    \n",
    "    try:\n",
    "        connection = mysql.connector.connect(host = os.getenv('aws_host'),\n",
    "                                             database = os.getenv('aws_schema'),\n",
    "                                             user = os.getenv('aws_user'),\n",
    "                                             password = os.getenv('aws_pass'))\n",
    "        if connection.is_connected():\n",
    "            db_Info = connection.get_server_info()\n",
    "            print(\"Connected to MySQL Server version \", db_Info)\n",
    "\n",
    "            cursor = connection.cursor()\n",
    "            cursor.execute(mySql_query)\n",
    "            #connection.commit()\n",
    "            print(cursor.rowcount, \"Success\")\n",
    "            return cursor.fetchall()\n",
    "\n",
    "    except Error as e:\n",
    "        print(\"Error while connecting to MySQL\", e)\n",
    "    finally:\n",
    "        if (connection.is_connected()):\n",
    "            cursor.close()\n",
    "            connection.close()\n",
    "            print(\"MySQL connection is closed\")"
   ]
  },
  {
   "cell_type": "code",
   "execution_count": 5,
   "metadata": {},
   "outputs": [],
   "source": [
    "consumer_key = os.getenv(\"consumer_key\")\n",
    "consumer_secret = os.getenv(\"consumer_secret\")\n",
    "callback_uri = 'oob'\n",
    "auth = tweepy.OAuthHandler(consumer_key, consumer_secret, callback_uri)\n",
    "api = tweepy.API(auth)"
   ]
  },
  {
   "cell_type": "code",
   "execution_count": 6,
   "metadata": {},
   "outputs": [
    {
     "name": "stdout",
     "output_type": "stream",
     "text": [
      "Connected to MySQL Server version  8.0.20\n",
      "0 Success\n",
      "MySQL connection is closed\n"
     ]
    }
   ],
   "source": [
    "query = \"SELECT * from TWEET\"\n",
    "tweetlist = get_values(query)"
   ]
  },
  {
   "cell_type": "code",
   "execution_count": 7,
   "metadata": {},
   "outputs": [
    {
     "data": {
      "text/plain": [
       "['let’s',\n",
       " 'speak',\n",
       " 'an',\n",
       " 'uncomfortable',\n",
       " 'but',\n",
       " 'honest',\n",
       " 'truth:',\n",
       " 'racism,',\n",
       " 'sexism,',\n",
       " 'anti-semitism,',\n",
       " 'homophobia,',\n",
       " 'and',\n",
       " 'transphobia',\n",
       " 'are',\n",
       " 'real…',\n",
       " 'https://t.co/sqazg1kusw']"
      ]
     },
     "execution_count": 7,
     "metadata": {},
     "output_type": "execute_result"
    }
   ],
   "source": [
    "words = tweetlist[0][2].split()\n",
    "words = [word.lower() for word in words]\n",
    "words"
   ]
  },
  {
   "cell_type": "code",
   "execution_count": 16,
   "metadata": {},
   "outputs": [
    {
     "name": "stderr",
     "output_type": "stream",
     "text": [
      "[nltk_data] Downloading package punkt to /Users/jackylau/nltk_data...\n",
      "[nltk_data]   Package punkt is already up-to-date!\n"
     ]
    },
    {
     "data": {
      "text/plain": [
       "[\"['let’s', 'speak', 'an', 'uncomfortable', 'but', 'honest', 'truth:', 'racism,', 'sexism,', 'anti-semitism,', 'homophobia,', 'and', 'transphobia', 'are', 'real…', 'https://t.co/sqazg1kusw']\"]"
      ]
     },
     "execution_count": 16,
     "metadata": {},
     "output_type": "execute_result"
    }
   ],
   "source": [
    "from nltk import sent_tokenize\n",
    "nltk.download('punkt')\n",
    "sent_tokenize(str(words))"
   ]
  },
  {
   "cell_type": "code",
   "execution_count": null,
   "metadata": {},
   "outputs": [],
   "source": []
  },
  {
   "cell_type": "code",
   "execution_count": null,
   "metadata": {},
   "outputs": [],
   "source": []
  },
  {
   "cell_type": "code",
   "execution_count": null,
   "metadata": {},
   "outputs": [],
   "source": []
  },
  {
   "cell_type": "code",
   "execution_count": null,
   "metadata": {},
   "outputs": [],
   "source": []
  },
  {
   "cell_type": "code",
   "execution_count": null,
   "metadata": {},
   "outputs": [],
   "source": []
  }
 ],
 "metadata": {
  "kernelspec": {
   "display_name": "Python 3",
   "language": "python",
   "name": "python3"
  },
  "language_info": {
   "codemirror_mode": {
    "name": "ipython",
    "version": 3
   },
   "file_extension": ".py",
   "mimetype": "text/x-python",
   "name": "python",
   "nbconvert_exporter": "python",
   "pygments_lexer": "ipython3",
   "version": "3.8.5"
  }
 },
 "nbformat": 4,
 "nbformat_minor": 4
}
